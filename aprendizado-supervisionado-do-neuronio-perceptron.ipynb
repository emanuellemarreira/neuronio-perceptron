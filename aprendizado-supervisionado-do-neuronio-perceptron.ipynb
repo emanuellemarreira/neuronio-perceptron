{
 "cells": [
  {
   "cell_type": "markdown",
   "metadata": {},
   "source": [
    "## Universidade do Estado do Amazonas\n",
    "### Disciplina: Redes Neurais Artificiais 2025/1\n",
    "### Integrantes: \n",
    "> Emanuelle Marreira - 2215080035\n",
    "\n",
    "> Afonso Garcia - 1615080003\n",
    "\n",
    "Identificador = (5+)mod4 = "
   ]
  },
  {
   "cell_type": "code",
   "execution_count": 29,
   "metadata": {},
   "outputs": [],
   "source": [
    "import random\n",
    "import matplotlib.pyplot\n",
    "import pandas as pd\n",
    "import numpy as np"
   ]
  },
  {
   "cell_type": "code",
   "execution_count": 63,
   "metadata": {},
   "outputs": [],
   "source": [
    "class Perceptron:\n",
    "    def __init__(self, learning_rate = 0.1, n_features = 2 ):\n",
    "        self.learning_rate = learning_rate\n",
    "        self.n_features = n_features\n",
    "        self.weights = np.random.uniform(-0.5, 0.5, size = self.n_features + 1)\n",
    "        self.initial_weights = self.weights.copy()\n",
    "        self.epochs = 0\n",
    "        self.total_weight_adjustments = 0\n",
    "\n",
    "    def activation(self, theta):\n",
    "        return np.where(theta >= 0, 1, 0)\n",
    "\n",
    "    def predict(self, X_with_bias):\n",
    "        net_input = np.dot(X_with_bias, self.weights)\n",
    "        return self.activation(net_input)\n",
    "\n",
    "    def train(self, X_train, y_train):\n",
    "        print(f\"Pesos iniciais (w0, w1, w2): {self.initial_weights}\")\n",
    "        X_b = np.insert(X_train, 0, 1, axis = 1)\n",
    "        print(X_b)\n",
    "\n",
    "        converged = False\n",
    "        while not converged:\n",
    "            self.epochs += 1\n",
    "            errors_in_epoch = 0\n",
    "            error_occurred_in_epoch = False\n",
    "\n",
    "            for xi, target in zip(X_b, y_train):\n",
    "                prediction = self.predict(xi)\n",
    "                error = target - prediction\n",
    "\n",
    "                if error != 0:\n",
    "                    self.weights = self.weights + self.learning_rate * error * xi\n",
    "                    self.total_weight_adjustments += 1\n",
    "                    errors_in_epoch += 1\n",
    "                    error_occurred_in_epoch = True\n",
    "            \n",
    "            if not error_occurred_in_epoch:\n",
    "                converged = True\n",
    "        print(f\"\\nConvergência alcançada!\")\n",
    "        print(f\"Pesos finais: {self.weights}\")\n",
    "        return self\n"
   ]
  }
 ],
 "metadata": {
  "kernelspec": {
   "display_name": "Python 3 (ipykernel)",
   "language": "python",
   "name": "python3"
  },
  "language_info": {
   "codemirror_mode": {
    "name": "ipython",
    "version": 3
   },
   "file_extension": ".py",
   "mimetype": "text/x-python",
   "name": "python",
   "nbconvert_exporter": "python",
   "pygments_lexer": "ipython3",
   "version": "3.12.7"
  }
 },
 "nbformat": 4,
 "nbformat_minor": 4
}
