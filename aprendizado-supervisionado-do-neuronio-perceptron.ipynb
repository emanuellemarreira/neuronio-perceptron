{
 "cells": [
  {
   "cell_type": "markdown",
   "metadata": {},
   "source": [
    "## Universidade do Estado do Amazonas\n",
    "### Disciplina: Redes Neurais Artificiais 2025/1\n",
    "### Integrantes: \n",
    "> Emanuelle Marreira - 2215080035\n",
    "\n",
    "> Afonso Garcia - 1615080003\n",
    "\n",
    "> Italo Ferreira - 2215080012\n",
    "\n",
    "> João Carvalho - 2215080040 "
   ]
  },
  {
   "cell_type": "markdown",
   "metadata": {},
   "source": [
    "## Identificador"
   ]
  },
  {
   "cell_type": "code",
   "execution_count": 1,
   "metadata": {},
   "outputs": [
    {
     "name": "stdout",
     "output_type": "stream",
     "text": [
      "2\n"
     ]
    }
   ],
   "source": [
    "identificador = (5+3+2+0)%4\n",
    "print(identificador)"
   ]
  },
  {
   "cell_type": "markdown",
   "metadata": {},
   "source": [
    "## Bibliotecas"
   ]
  },
  {
   "cell_type": "code",
   "execution_count": 29,
   "metadata": {},
   "outputs": [],
   "source": [
    "import random\n",
    "import matplotlib.pyplot\n",
    "import pandas as pd\n",
    "import numpy as np"
   ]
  },
  {
   "cell_type": "markdown",
   "metadata": {},
   "source": [
    "## Definição do Neurônio Perceptron"
   ]
  },
  {
   "cell_type": "code",
   "execution_count": null,
   "metadata": {},
   "outputs": [],
   "source": [
    "class NeuronioPerceptron:\n",
    "    def __init__(self, taxa_de_aprendizado = 0.1, n_features = 2, vies = -1):\n",
    "        self.taxa_de_aprendizado = taxa_de_aprendizado\n",
    "        self.n_features = n_features\n",
    "        self.pesos = np.random.uniform(-0.5, 0.5, size = self.n_features + 1)\n",
    "        self.pesos_iniciais = self.pesos.copy()\n",
    "        self.epocas = 0\n",
    "        self.total_ajustes_pesos = 0\n",
    "        self.vies = vies\n",
    "\n",
    "    def ativacao(self, theta):\n",
    "        return np.where(theta >= 0, 1, 0)\n",
    "\n",
    "    def prever(self, X_com_vies):\n",
    "        entrada = np.dot(X_com_vies, self.pesos)\n",
    "        return self.ativacao(entrada)\n",
    "    \n",
    "    def realizar_ajuste(self, erro, xi):\n",
    "        self.pesos = self.pesos + self.taxa_de_aprendizado * erro * xi\n",
    "        self.total_ajustes_pesos += 1\n",
    "\n",
    "    def treino(self, X_treino, y_treino):\n",
    "        print(f\"Pesos iniciais (w0, w1, w2): {self.pesos_iniciais}\")\n",
    "        X_treino_vies = np.insert(X_treino, 0, self.vies, axis = 1)\n",
    "\n",
    "        convergiu = False\n",
    "        while not convergiu:\n",
    "            self.epocas += 1\n",
    "            erros_na_epoca = 0\n",
    "            ocorreu_erro = False\n",
    "\n",
    "            for xi, yd in zip(X_treino_vies, y_treino):\n",
    "                y_previsto = self.predict(xi)\n",
    "                erro = yd - y_previsto\n",
    "\n",
    "                if erro != 0:\n",
    "                    self.realizar_ajuste(erro, xi)\n",
    "                    erros_na_epoca += 1\n",
    "                    ocorreu_erro = True\n",
    "            \n",
    "            if not ocorreu_erro:\n",
    "                convergiu = True\n",
    "        print(f\"\\nConvergência alcançada!\")\n",
    "        print(f\"Pesos finais: {self.pesos}\")\n",
    "        return self\n"
   ]
  },
  {
   "cell_type": "code",
   "execution_count": null,
   "metadata": {},
   "outputs": [
    {
     "name": "stdout",
     "output_type": "stream",
     "text": [
      "Dados carregados! Total de elementos: 3000\n",
      "Número de amostras: 1000\n",
      "Shape de X: (1000, 2)\n",
      "Shape de y: (1000,)\n",
      "Pesos iniciais (w0, w1, w2): [-0.29902517 -0.41846719 -0.34703363]\n",
      "\n",
      "Convergência alcançada!\n",
      "Pesos finais: [  -0.49902517  151.21240281 -150.64452363]\n",
      "Número total de ajustes nos pesos: 12\n",
      "Número de épocas até a convergência: 2\n"
     ]
    }
   ],
   "source": [
    "data = np.fromfile('dataAll.txt', dtype = np.float64)\n",
    "print(f\"Dados carregados! Total de elementos: {len(data)}\")\n",
    "\n",
    "n_sample = len(data)//3\n",
    "data_reshaped = data.reshape(n_sample, 3)\n",
    "\n",
    "X = data_reshaped[:, :2]\n",
    "y = data_reshaped[:, 2].astype(int)\n",
    "\n",
    "print(f\"Número de amostras: {n_samples}\")\n",
    "print(f\"Shape de X: {X.shape}\")\n",
    "print(f\"Shape de y: {y.shape}\")\n",
    "\n",
    "ppn = Perceptron(learning_rate = 0.1, n_features = 2)\n",
    "ppn.train(X, y)\n",
    "\n",
    "print(f\"Número total de ajustes nos pesos: {ppn.total_weight_adjustments}\")\n",
    "print(f\"Número de épocas até a convergência: {ppn.epochs}\")"
   ]
  }
 ],
 "metadata": {
  "kernelspec": {
   "display_name": "NEURONIO-PERCEPTRON",
   "language": "python",
   "name": "python3"
  },
  "language_info": {
   "codemirror_mode": {
    "name": "ipython",
    "version": 3
   },
   "file_extension": ".py",
   "mimetype": "text/x-python",
   "name": "python",
   "nbconvert_exporter": "python",
   "pygments_lexer": "ipython3",
   "version": "3.13.2"
  }
 },
 "nbformat": 4,
 "nbformat_minor": 4
}
