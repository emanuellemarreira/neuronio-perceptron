{
 "cells": [
  {
   "cell_type": "markdown",
   "metadata": {},
   "source": [
    "## Universidade do Estado do Amazonas\n",
    "### Disciplina: Redes Neurais Artificiais 2025/1\n",
    "### Integrantes: \n",
    "> Emanuelle Marreira - 2215080035\n",
    "\n",
    "> Afonso Garcia - 1615080003\n",
    "\n",
    "> Italo Ferreira - 2215080012\n",
    "\n",
    "> João Carvalho - 2215080040 "
   ]
  },
  {
   "cell_type": "markdown",
   "metadata": {},
   "source": [
    "## Identificador"
   ]
  },
  {
   "cell_type": "code",
   "execution_count": null,
   "metadata": {},
   "outputs": [],
   "source": [
    "identificador = (5+3+2+0)%4\n",
    "print(identificador)"
   ]
  },
  {
   "cell_type": "markdown",
   "metadata": {},
   "source": [
    "## Bibliotecas"
   ]
  },
  {
   "cell_type": "code",
   "execution_count": null,
   "metadata": {},
   "outputs": [],
   "source": [
    "import random\n",
    "import matplotlib.pyplot as plt\n",
    "import pandas as pd\n",
    "import numpy as np\n",
    "np.set_printoptions(precision=4, suppress=True)"
   ]
  },
  {
   "cell_type": "markdown",
   "metadata": {},
   "source": [
    "## Definição do Neurônio Perceptron"
   ]
  },
  {
   "cell_type": "code",
   "execution_count": null,
   "metadata": {},
   "outputs": [],
   "source": [
    "class NeuronioPerceptron:\n",
    "    def __init__(self, taxa_de_aprendizado = 0.1, n_features = 2, vies = -1):\n",
    "        self.taxa_de_aprendizado = taxa_de_aprendizado\n",
    "        self.n_features = n_features\n",
    "        self.pesos_iniciais = np.random.uniform(-0.5, 0.5, size = self.n_features + 1)\n",
    "        #self.pesos_iniciais = [-0.5441, 0.5562, -0.4074]\n",
    "        self.pesos = self.pesos_iniciais.copy()\n",
    "        self.epocas = 0\n",
    "        self.total_ajustes_pesos = 0\n",
    "        self.vies = vies\n",
    "\n",
    "    def ativacao(self, theta):\n",
    "        return np.where(theta >= 0, 1, 0)\n",
    "\n",
    "    def prever(self, X_com_vies):\n",
    "        entrada = np.dot(X_com_vies, self.pesos)\n",
    "        print(f\"{X_com_vies} * {self.pesos} = {np.round(entrada, 4)}\")\n",
    "        return self.ativacao(entrada)\n",
    "    \n",
    "    def realizar_ajuste(self, erro, xi):\n",
    "        self.pesos = self.pesos + self.taxa_de_aprendizado * erro * xi\n",
    "        self.total_ajustes_pesos += 1\n",
    "\n",
    "    def treino(self, X_treino, y_treino):\n",
    "        print(f\"Pesos iniciais (w0, w1, w2): {self.pesos_iniciais}\")\n",
    "        X_treino_vies = np.insert(X_treino, 0, self.vies, axis = 1)\n",
    "\n",
    "        convergiu = False\n",
    "        while not convergiu:\n",
    "            self.epocas += 1\n",
    "            print(f\"\\n**********{self.epocas}a época**********\\n\")\n",
    "            erros_na_epoca = 0\n",
    "            ocorreu_erro = False\n",
    "\n",
    "            for xi, yd in zip(X_treino_vies, y_treino):\n",
    "                y_previsto = self.prever(xi)\n",
    "                erro = yd - y_previsto\n",
    "\n",
    "                if erro != 0:\n",
    "                    print(f\"!!!ERRO em: {xi} | {yd} - {y_previsto} = {erro}\")\n",
    "                    self.realizar_ajuste(erro, xi)\n",
    "                    erros_na_epoca += 1\n",
    "                    ocorreu_erro = True\n",
    "            \n",
    "            if not ocorreu_erro:\n",
    "                convergiu = True\n",
    "        print(f\"\\nConvergência alcançada!\")\n",
    "        print(f\"Pesos finais: {self.pesos}\")\n",
    "        return self\n"
   ]
  },
  {
   "cell_type": "code",
   "execution_count": null,
   "metadata": {},
   "outputs": [],
   "source": [
    "# Teste com o exemplo da professora\n",
    "X = [(2,2),(4,4)]\n",
    "Y = [1,0]\n",
    "neuronio_perceptron = NeuronioPerceptron(taxa_de_aprendizado = 0.1, n_features = 2)\n",
    "neuronio_perceptron.treino(X, Y)\n",
    "print(f\"Número total de ajustes nos pesos: {neuronio_perceptron.total_ajustes_pesos}\")\n",
    "print(f\"Número de épocas até a convergência: {neuronio_perceptron.epocas}\")"
   ]
  },
  {
   "cell_type": "markdown",
   "metadata": {},
   "source": [
    "## Parte 1 - Resolvendo um problema linearmente separável"
   ]
  },
  {
   "cell_type": "markdown",
   "metadata": {},
   "source": [
    "### Definição dos dados"
   ]
  },
  {
   "cell_type": "code",
   "execution_count": null,
   "metadata": {},
   "outputs": [],
   "source": [
    "dados = np.fromfile('dataAll.txt', dtype = np.float64)\n",
    "dados = dados.reshape(-1,1,3)\n",
    "print(f\"Dados carregados: {dados.shape}\")\n",
    "dados = dados.reshape(-1, 3)\n",
    "X = dados[:, [0,1]]  # x1 e x2\n",
    "yd = dados[:, 2]   # yd\n",
    "print(f\"X = {X[:5]}...\")\n",
    "print(f\"yd = {yd[:5]}...\")"
   ]
  },
  {
   "cell_type": "markdown",
   "metadata": {},
   "source": [
    "### Treinamento "
   ]
  },
  {
   "cell_type": "code",
   "execution_count": null,
   "metadata": {},
   "outputs": [],
   "source": [
    "neuronio_perceptron = NeuronioPerceptron(taxa_de_aprendizado = 0.1, n_features = 2)\n",
    "neuronio_perceptron = neuronio_perceptron.treino(X, yd)\n",
    "\n",
    "print(f\"Número total de ajustes nos pesos: {neuronio_perceptron.total_ajustes_pesos}\")\n",
    "print(f\"Número de épocas até a convergência: {neuronio_perceptron.epocas}\")"
   ]
  },
  {
   "cell_type": "markdown",
   "metadata": {},
   "source": [
    "### Impressão dos resultados"
   ]
  },
  {
   "cell_type": "code",
   "execution_count": null,
   "metadata": {},
   "outputs": [],
   "source": [
    "plt.figure(figsize=(8, 6))\n",
    "\n",
    "for i in range(len(X)):\n",
    "    cor = 'red' if yd[i] == 0 else 'blue'\n",
    "    plt.scatter(X[i][0], X[i][1], c=cor, edgecolors='k')\n",
    "    \n",
    "w = neuronio_perceptron.pesos\n",
    "x_1 = np.linspace(X[:, 0].min(), X[:, 0].max(), 100)\n",
    "\n",
    "if w[2] != 0:\n",
    "    x_2 = (w[0]/w[2]) - ((w[1]/w[2]) * x_1)\n",
    "    plt.plot(x_1, x_2, 'k--', label='Fronteira de decisão')\n",
    "\n",
    "plt.xlabel('x1')\n",
    "plt.ylabel('x2')\n",
    "plt.title('Separação de Classes pelo Perceptron')\n",
    "plt.grid(True)\n",
    "plt.legend()\n",
    "plt.show()"
   ]
  },
  {
   "cell_type": "code",
   "execution_count": null,
   "metadata": {},
   "outputs": [],
   "source": []
  }
 ],
 "metadata": {
  "kernelspec": {
   "display_name": "Python 3 (ipykernel)",
   "language": "python",
   "name": "python3"
  },
  "language_info": {
   "codemirror_mode": {
    "name": "ipython",
    "version": 3
   },
   "file_extension": ".py",
   "mimetype": "text/x-python",
   "name": "python",
   "nbconvert_exporter": "python",
   "pygments_lexer": "ipython3",
   "version": "3.12.7"
  }
 },
 "nbformat": 4,
 "nbformat_minor": 4
}
